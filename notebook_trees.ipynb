{
 "cells": [
  {
   "cell_type": "code",
   "execution_count": 39,
   "metadata": {},
   "outputs": [],
   "source": [
    "from nltk import Tree\n",
    "from parser import *"
   ]
  },
  {
   "cell_type": "code",
   "execution_count": 3,
   "metadata": {},
   "outputs": [
    {
     "name": "stdout",
     "output_type": "stream",
     "text": [
      "                  S                     \n",
      "      ____________|_______               \n",
      "     |                    VP            \n",
      "     |                 ___|_________     \n",
      "     NP               NP            |   \n",
      "  ___|_____        ___|___          |    \n",
      " |   AP    |      |       NP        |   \n",
      " |   |     |      |    ___|___      |    \n",
      "Det Adj    N      P  Det      N     V   \n",
      " |   |     |      |   |       |     |    \n",
      "the red armchair  in his     home smiled\n",
      "\n",
      "Noun Phrase Chunks\n",
      "his home\n"
     ]
    }
   ],
   "source": [
    "list_ = main()"
   ]
  },
  {
   "cell_type": "code",
   "execution_count": 34,
   "metadata": {},
   "outputs": [
    {
     "name": "stdout",
     "output_type": "stream",
     "text": [
      "(Det the)\n",
      "(Adj red)\n",
      "(N armchair)\n",
      "(P in)\n",
      "(Det his)\n",
      "(N home)\n",
      "(V smiled)\n"
     ]
    }
   ],
   "source": [
    "list_2 = []\n",
    "for s in list_[0].subtrees(lambda t: t.height() == 2):\n",
    "    print(s)\n",
    "    if s.label() == \"N\":\n",
    "        list_2.append(s)\n",
    "        "
   ]
  },
  {
   "cell_type": "code",
   "execution_count": 35,
   "metadata": {},
   "outputs": [
    {
     "data": {
      "text/plain": [
       "[Tree('N', ['armchair']), Tree('N', ['home'])]"
      ]
     },
     "execution_count": 35,
     "metadata": {},
     "output_type": "execute_result"
    }
   ],
   "source": [
    "list_2"
   ]
  },
  {
   "cell_type": "code",
   "execution_count": 67,
   "metadata": {},
   "outputs": [
    {
     "name": "stdout",
     "output_type": "stream",
     "text": [
      "(S\n",
      "  (NP (Det the) (AP (Adj red)) (N armchair))\n",
      "  (VP (NP (P in) (NP (Det his) (N home))) (V smiled)))\n",
      "(NP (Det the) (AP (Adj red)) (N armchair))\n",
      "(Det the)\n",
      "(AP (Adj red))\n",
      "(Adj red)\n",
      "(N armchair)\n",
      "(VP (NP (P in) (NP (Det his) (N home))) (V smiled))\n",
      "(NP (P in) (NP (Det his) (N home)))\n",
      "(P in)\n",
      "(NP (Det his) (N home))\n",
      "(Det his)\n",
      "(N home)\n",
      "(V smiled)\n"
     ]
    }
   ],
   "source": [
    "list_subtrees = []\n",
    "for n in list_[0].subtrees():\n",
    "    print(n)\n",
    "    if n.label() == \"NP\":\n",
    "        list_subtrees.append(n)"
   ]
  },
  {
   "cell_type": "code",
   "execution_count": 54,
   "metadata": {},
   "outputs": [
    {
     "data": {
      "text/plain": [
       "[Tree('NP', [Tree('Det', ['the']), Tree('AP', [Tree('Adj', ['red'])]), Tree('N', ['armchair'])]),\n",
       " Tree('NP', [Tree('P', ['in']), Tree('NP', [Tree('Det', ['his']), Tree('N', ['home'])])]),\n",
       " Tree('NP', [Tree('Det', ['his']), Tree('N', ['home'])])]"
      ]
     },
     "execution_count": 54,
     "metadata": {},
     "output_type": "execute_result"
    }
   ],
   "source": [
    "list_subtrees"
   ]
  },
  {
   "cell_type": "code",
   "execution_count": 56,
   "metadata": {},
   "outputs": [
    {
     "name": "stdout",
     "output_type": "stream",
     "text": [
      "NP\n",
      "NP\n",
      "NP\n"
     ]
    }
   ],
   "source": [
    "for i in list_subtrees:\n",
    "    print(i.label())"
   ]
  },
  {
   "cell_type": "code",
   "execution_count": 76,
   "metadata": {},
   "outputs": [
    {
     "name": "stdout",
     "output_type": "stream",
     "text": [
      "Det\n",
      "AP\n",
      "N\n",
      "P\n",
      "NP\n",
      "Det\n",
      "N\n"
     ]
    }
   ],
   "source": [
    "# Crawl the first order of subtrees with label \"NP\".\n",
    "# A subtree without a child with the label \"NP\" is a chunk. Add to set_chunk\n",
    "# If there is a child with the label \"NP\" add to set_3.\n",
    "# Elements of set_chunk can be converted to Trees and added to the chunk list.\n",
    "# Elements of set_3 should also be converted to Tree class and added to a to-do list. Repeat loop.\n",
    "\n",
    "set_3 = set()\n",
    "set_chunk = set()\n",
    "for i in list_subtrees:\n",
    "   ind = 0\n",
    "   for j in i:\n",
    "      if j.label() == \"NP\":\n",
    "         ind += 1\n",
    "   if ind > 0:\n",
    "      set_3.add(str(i))\n",
    "   else:\n",
    "      set_chunk.add(str(i))"
   ]
  },
  {
   "cell_type": "code",
   "execution_count": 77,
   "metadata": {},
   "outputs": [
    {
     "name": "stdout",
     "output_type": "stream",
     "text": [
      "{'(NP (P in) (NP (Det his) (N home)))'}\n"
     ]
    }
   ],
   "source": [
    "print(set_3)"
   ]
  },
  {
   "cell_type": "code",
   "execution_count": 78,
   "metadata": {},
   "outputs": [
    {
     "name": "stdout",
     "output_type": "stream",
     "text": [
      "{'(NP (Det his) (N home))', '(NP (Det the) (AP (Adj red)) (N armchair))'}\n"
     ]
    }
   ],
   "source": [
    "print(set_chunk)"
   ]
  }
 ],
 "metadata": {
  "kernelspec": {
   "display_name": "Python 3.10.6 ('base')",
   "language": "python",
   "name": "python3"
  },
  "language_info": {
   "codemirror_mode": {
    "name": "ipython",
    "version": 3
   },
   "file_extension": ".py",
   "mimetype": "text/x-python",
   "name": "python",
   "nbconvert_exporter": "python",
   "pygments_lexer": "ipython3",
   "version": "3.10.6"
  },
  "orig_nbformat": 4,
  "vscode": {
   "interpreter": {
    "hash": "51aac96a1ad50adc7d4a1a596256386b3ce94cd59070594d461c13d85ed1cee1"
   }
  }
 },
 "nbformat": 4,
 "nbformat_minor": 2
}
