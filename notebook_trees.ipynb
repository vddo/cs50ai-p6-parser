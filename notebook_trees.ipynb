{
 "cells": [
  {
   "cell_type": "code",
   "execution_count": 1,
   "metadata": {},
   "outputs": [],
   "source": [
    "from parser import *"
   ]
  },
  {
   "cell_type": "code",
   "execution_count": 2,
   "metadata": {},
   "outputs": [
    {
     "name": "stdout",
     "output_type": "stream",
     "text": [
      "['holmes', 'sat', 'in', 'the', 'red', 'armchair', 'and', 'he', 'chuckled']\n",
      "            S                                            \n",
      "   _________|_______                                      \n",
      "  |                 VP                                   \n",
      "  |      ___________|_____                                \n",
      "  |     |                 VP                             \n",
      "  |     |            _____|_________________________      \n",
      "  |     |           NP                              |    \n",
      "  |     |    _______|_____                          |     \n",
      "  |     |   |             NP                        |    \n",
      "  |     |   |    _________|______                   |     \n",
      "  |     |   |   |                NP                 |    \n",
      "  |     |   |   |    ____________|___               |     \n",
      "  |     |   |   |   |                NP             |    \n",
      "  |     |   |   |   |      __________|____          |     \n",
      "  |     |   |   |   |     |               NP        |    \n",
      "  |     |   |   |   |     |           ____|___      |     \n",
      "  NP    |   |   |   AP    |          |        NP    |    \n",
      "  |     |   |   |   |     |          |        |     |     \n",
      "  N     V   P  Det Adj    N         Conj      N     V    \n",
      "  |     |   |   |   |     |          |        |     |     \n",
      "holmes sat  in the red armchair     and       he chuckled\n",
      "\n",
      "Noun Phrase Chunks\n",
      "holmes\n",
      "sat in the red armchair and he chuckled\n",
      "            S                                                \n",
      "   _________|___________                                      \n",
      "  |                     VP                                   \n",
      "  |              _______|_____________________                \n",
      "  |             VP                            |              \n",
      "  |      _______|___                          |               \n",
      "  |     |           NP                        |              \n",
      "  |     |    _______|___                      |               \n",
      "  |     |   |           NP                    CP             \n",
      "  |     |   |    _______|___              ____|___            \n",
      "  |     |   |   |           NP           |        VP         \n",
      "  |     |   |   |        ___|_____       |     ___|_____      \n",
      "  NP    |   |   |       AP        NP     |    NP        |    \n",
      "  |     |   |   |       |         |      |    |         |     \n",
      "  N     V   P  Det     Adj        N     Conj  N         V    \n",
      "  |     |   |   |       |         |      |    |         |     \n",
      "holmes sat  in the     red     armchair and   he     chuckled\n",
      "\n",
      "Noun Phrase Chunks\n",
      "holmes\n",
      "sat in the red armchair and he chuckled\n",
      "            S                                            \n",
      "   _________|___________                                  \n",
      "  |                     VP                               \n",
      "  |              _______|_____________________            \n",
      "  |             VP                            |          \n",
      "  |      _______|___                          |           \n",
      "  |     |           NP                        |          \n",
      "  |     |    _______|___                      |           \n",
      "  |     |   |           NP                    |          \n",
      "  |     |   |    _______|___                  |           \n",
      "  |     |   |   |           NP                CP         \n",
      "  |     |   |   |        ___|_____        ____|_____      \n",
      "  NP    |   |   |       AP        NP     |    NP    VP   \n",
      "  |     |   |   |       |         |      |    |     |     \n",
      "  N     V   P  Det     Adj        N     Conj  N     V    \n",
      "  |     |   |   |       |         |      |    |     |     \n",
      "holmes sat  in the     red     armchair and   he chuckled\n",
      "\n",
      "Noun Phrase Chunks\n",
      "holmes\n",
      "sat in the red armchair and he chuckled\n"
     ]
    }
   ],
   "source": [
    "list_ = main()"
   ]
  },
  {
   "cell_type": "code",
   "execution_count": 7,
   "metadata": {},
   "outputs": [
    {
     "data": {
      "text/plain": [
       "3"
      ]
     },
     "execution_count": 7,
     "metadata": {},
     "output_type": "execute_result"
    }
   ],
   "source": [
    "len(list_[0])"
   ]
  },
  {
   "cell_type": "code",
   "execution_count": 9,
   "metadata": {},
   "outputs": [
    {
     "name": "stdout",
     "output_type": "stream",
     "text": [
      "(S\n",
      "  (NP (N holmes))\n",
      "  (VP\n",
      "    (V sat)\n",
      "    (VP\n",
      "      (NP\n",
      "        (P in)\n",
      "        (NP\n",
      "          (Det the)\n",
      "          (NP\n",
      "            (AP (Adj red))\n",
      "            (NP (N armchair) (NP (Conj and) (NP (N he)))))))\n",
      "      (V chuckled))))\n"
     ]
    }
   ],
   "source": [
    "print(list_[0][0])"
   ]
  },
  {
   "cell_type": "code",
   "execution_count": null,
   "metadata": {},
   "outputs": [],
   "source": []
  },
  {
   "cell_type": "code",
   "execution_count": null,
   "metadata": {},
   "outputs": [],
   "source": []
  },
  {
   "cell_type": "code",
   "execution_count": null,
   "metadata": {},
   "outputs": [],
   "source": []
  },
  {
   "cell_type": "code",
   "execution_count": null,
   "metadata": {},
   "outputs": [],
   "source": []
  },
  {
   "cell_type": "code",
   "execution_count": 10,
   "metadata": {},
   "outputs": [
    {
     "name": "stdout",
     "output_type": "stream",
     "text": [
      "(S\n",
      "  (NP (N holmes))\n",
      "  (VP\n",
      "    (V sat)\n",
      "    (VP\n",
      "      (NP\n",
      "        (P in)\n",
      "        (NP\n",
      "          (Det the)\n",
      "          (NP\n",
      "            (AP (Adj red))\n",
      "            (NP (N armchair) (NP (Conj and) (NP (N he)))))))\n",
      "      (V chuckled))))\n"
     ]
    }
   ],
   "source": [
    "print(list_[0])"
   ]
  },
  {
   "cell_type": "code",
   "execution_count": 15,
   "metadata": {},
   "outputs": [
    {
     "name": "stdout",
     "output_type": "stream",
     "text": [
      "(S\n",
      "  (NP (N holmes))\n",
      "  (VP\n",
      "    (VP\n",
      "      (V sat)\n",
      "      (NP\n",
      "        (P in)\n",
      "        (NP (Det the) (NP (AP (Adj red)) (NP (N armchair))))))\n",
      "    (CP (Conj and) (NP (N he)) (VP (V chuckled)))))\n"
     ]
    }
   ],
   "source": [
    "print(list_[2])"
   ]
  },
  {
   "cell_type": "code",
   "execution_count": 18,
   "metadata": {},
   "outputs": [
    {
     "data": {
      "text/plain": [
       "[Tree('S', [Tree('NP', [Tree('N', ['holmes'])]), Tree('VP', [Tree('V', ['sat']), Tree('VP', [Tree('NP', [Tree('P', ['in']), Tree('NP', [Tree('Det', ['the']), Tree('NP', [Tree('AP', [Tree('Adj', ['red'])]), Tree('NP', [Tree('N', ['armchair']), Tree('NP', [Tree('Conj', ['and']), Tree('NP', [Tree('N', ['he'])])])])])])]), Tree('V', ['chuckled'])])])]),\n",
       " Tree('S', [Tree('NP', [Tree('N', ['holmes'])]), Tree('VP', [Tree('VP', [Tree('V', ['sat']), Tree('NP', [Tree('P', ['in']), Tree('NP', [Tree('Det', ['the']), Tree('NP', [Tree('AP', [Tree('Adj', ['red'])]), Tree('NP', [Tree('N', ['armchair'])])])])])]), Tree('CP', [Tree('Conj', ['and']), Tree('VP', [Tree('NP', [Tree('N', ['he'])]), Tree('V', ['chuckled'])])])])]),\n",
       " Tree('S', [Tree('NP', [Tree('N', ['holmes'])]), Tree('VP', [Tree('VP', [Tree('V', ['sat']), Tree('NP', [Tree('P', ['in']), Tree('NP', [Tree('Det', ['the']), Tree('NP', [Tree('AP', [Tree('Adj', ['red'])]), Tree('NP', [Tree('N', ['armchair'])])])])])]), Tree('CP', [Tree('Conj', ['and']), Tree('NP', [Tree('N', ['he'])]), Tree('VP', [Tree('V', ['chuckled'])])])])])]"
      ]
     },
     "execution_count": 18,
     "metadata": {},
     "output_type": "execute_result"
    }
   ],
   "source": [
    "list_"
   ]
  },
  {
   "cell_type": "code",
   "execution_count": null,
   "metadata": {},
   "outputs": [],
   "source": []
  },
  {
   "cell_type": "code",
   "execution_count": null,
   "metadata": {},
   "outputs": [],
   "source": []
  },
  {
   "cell_type": "code",
   "execution_count": null,
   "metadata": {},
   "outputs": [],
   "source": []
  },
  {
   "cell_type": "code",
   "execution_count": null,
   "metadata": {},
   "outputs": [],
   "source": []
  },
  {
   "cell_type": "code",
   "execution_count": null,
   "metadata": {},
   "outputs": [],
   "source": []
  },
  {
   "cell_type": "code",
   "execution_count": null,
   "metadata": {},
   "outputs": [],
   "source": []
  }
 ],
 "metadata": {
  "kernelspec": {
   "display_name": "Python 3.10.6 ('base')",
   "language": "python",
   "name": "python3"
  },
  "language_info": {
   "codemirror_mode": {
    "name": "ipython",
    "version": 3
   },
   "file_extension": ".py",
   "mimetype": "text/x-python",
   "name": "python",
   "nbconvert_exporter": "python",
   "pygments_lexer": "ipython3",
   "version": "3.10.6"
  },
  "orig_nbformat": 4,
  "vscode": {
   "interpreter": {
    "hash": "51aac96a1ad50adc7d4a1a596256386b3ce94cd59070594d461c13d85ed1cee1"
   }
  }
 },
 "nbformat": 4,
 "nbformat_minor": 2
}
