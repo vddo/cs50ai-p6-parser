{
 "cells": [
  {
   "cell_type": "code",
   "execution_count": 1,
   "metadata": {},
   "outputs": [],
   "source": [
    "from nltk import Tree\n",
    "from parser import *"
   ]
  },
  {
   "cell_type": "code",
   "execution_count": 2,
   "metadata": {},
   "outputs": [
    {
     "name": "stdout",
     "output_type": "stream",
     "text": [
      "                       S                           \n",
      "  _____________________|________________            \n",
      " |             VP                       |          \n",
      " |    _________|___                     |           \n",
      " |   |             NP                   |          \n",
      " |   |     ________|___                 |           \n",
      " |   |    |            NP               PP         \n",
      " |   |    |     _______|___          ___|___        \n",
      " NP  |    |    |           NP       PP      NP     \n",
      " |   |    |    |        ___|___     |    ___|___    \n",
      " N   V    N    P      Det      N    P  Det      N  \n",
      " |   |    |    |       |       |    |   |       |   \n",
      " i  had paint  in     the     palm  of  my     hand\n",
      "\n",
      "Noun Phrase Chunks\n",
      "i\n",
      "the palm\n",
      "my hand\n"
     ]
    }
   ],
   "source": [
    "list_ = main()"
   ]
  },
  {
   "cell_type": "code",
   "execution_count": 34,
   "metadata": {},
   "outputs": [
    {
     "name": "stdout",
     "output_type": "stream",
     "text": [
      "(Det the)\n",
      "(Adj red)\n",
      "(N armchair)\n",
      "(P in)\n",
      "(Det his)\n",
      "(N home)\n",
      "(V smiled)\n"
     ]
    }
   ],
   "source": [
    "list_2 = []\n",
    "for s in list_[0].subtrees(lambda t: t.height() == 2):\n",
    "    print(s)\n",
    "    if s.label() == \"N\":\n",
    "        list_2.append(s)\n",
    "        "
   ]
  },
  {
   "cell_type": "code",
   "execution_count": 35,
   "metadata": {},
   "outputs": [
    {
     "data": {
      "text/plain": [
       "[Tree('N', ['armchair']), Tree('N', ['home'])]"
      ]
     },
     "execution_count": 35,
     "metadata": {},
     "output_type": "execute_result"
    }
   ],
   "source": [
    "list_2"
   ]
  },
  {
   "cell_type": "code",
   "execution_count": 17,
   "metadata": {},
   "outputs": [
    {
     "data": {
      "text/plain": [
       "[Tree('NP', [Tree('N', ['i'])]),\n",
       " Tree('NP', [Tree('Det', ['a']), Tree('AP', [Tree('Adj', ['country'])]), Tree('N', ['walk'])]),\n",
       " Tree('NP', [Tree('N', ['thursday'])]),\n",
       " Tree('NP', [Tree('N', ['home']), Tree('NP', [Tree('P', ['in']), Tree('NP', [Tree('Det', ['a']), Tree('AP', [Tree('Adj', ['dreadful'])]), Tree('N', ['mess'])])])]),\n",
       " Tree('NP', [Tree('P', ['in']), Tree('NP', [Tree('Det', ['a']), Tree('AP', [Tree('Adj', ['dreadful'])]), Tree('N', ['mess'])])]),\n",
       " Tree('NP', [Tree('Det', ['a']), Tree('AP', [Tree('Adj', ['dreadful'])]), Tree('N', ['mess'])])]"
      ]
     },
     "execution_count": 17,
     "metadata": {},
     "output_type": "execute_result"
    }
   ],
   "source": [
    "list_subtrees = []\n",
    "for n in list_[0].subtrees():\n",
    "    # print(n)\n",
    "    if n.label() == \"NP\":\n",
    "        list_subtrees.append(n)\n",
    "\n",
    "list_subtrees"
   ]
  },
  {
   "cell_type": "code",
   "execution_count": 6,
   "metadata": {},
   "outputs": [
    {
     "name": "stdout",
     "output_type": "stream",
     "text": [
      "(NP (N i))\n",
      "(NP (Det a) (AP (Adj country)) (N walk))\n",
      "(NP (N thursday))\n",
      "(NP (N home) (NP (P in) (NP (Det a) (AP (Adj dreadful)) (N mess))))\n",
      "(NP (P in) (NP (Det a) (AP (Adj dreadful)) (N mess)))\n",
      "(NP (Det a) (AP (Adj dreadful)) (N mess))\n"
     ]
    }
   ],
   "source": [
    "for i in list_subtrees:\n",
    "    print(i)"
   ]
  },
  {
   "cell_type": "code",
   "execution_count": null,
   "metadata": {},
   "outputs": [],
   "source": []
  },
  {
   "cell_type": "code",
   "execution_count": null,
   "metadata": {},
   "outputs": [],
   "source": []
  },
  {
   "cell_type": "markdown",
   "metadata": {},
   "source": [
    "Output list_subtrees:\n",
    "\n",
    "[Tree('NP', [Tree('N', ['holmes'])]),\n",
    " Tree('NP', [Tree('P', ['in']), Tree('NP', [Tree('Det', ['the']), Tree('AP', [Tree('Adj', ['red'])]), Tree('N', ['armchair'])])]),\n",
    " Tree('NP', [Tree('Det', ['the']), Tree('AP', [Tree('Adj', ['red'])]), Tree('N', ['armchair'])]),\n",
    " Tree('NP', [Tree('N', ['he'])])]\n",
    "\n",
    "- function subtrees already identifies every NPs. In the list are NPs with sub-NPs and even the chunks\n",
    "- It is only neccessary to filter one more level. Only check, if one of the list_subtrees elements has no further NP-element. If that condition is met, that element is a chunk. With this method all chunks will be identified."
   ]
  },
  {
   "cell_type": "code",
   "execution_count": 56,
   "metadata": {},
   "outputs": [
    {
     "name": "stdout",
     "output_type": "stream",
     "text": [
      "NP\n",
      "NP\n",
      "NP\n"
     ]
    }
   ],
   "source": [
    "for i in list_subtrees:\n",
    "    print(i.label())"
   ]
  },
  {
   "cell_type": "code",
   "execution_count": 76,
   "metadata": {},
   "outputs": [
    {
     "name": "stdout",
     "output_type": "stream",
     "text": [
      "Det\n",
      "AP\n",
      "N\n",
      "P\n",
      "NP\n",
      "Det\n",
      "N\n"
     ]
    }
   ],
   "source": [
    "# Crawl the first order of subtrees with label \"NP\".\n",
    "# A subtree without a child with the label \"NP\" is a chunk. Add to set_chunk\n",
    "# If there is a child with the label \"NP\" add to set_3.\n",
    "# Elements of set_chunk can be converted to Trees and added to the chunk list.\n",
    "# Elements of set_3 should also be converted to Tree class and added to a to-do list. Repeat loop.\n",
    "\n",
    "set_3 = set()\n",
    "set_chunk = set()\n",
    "for i in list_subtrees:\n",
    "   ind = 0\n",
    "   for j in i:\n",
    "      if j.label() == \"NP\":\n",
    "         ind += 1\n",
    "   if ind > 0:\n",
    "      set_3.add(str(i))\n",
    "   else:\n",
    "      set_chunk.add(str(i))"
   ]
  },
  {
   "cell_type": "code",
   "execution_count": 77,
   "metadata": {},
   "outputs": [
    {
     "name": "stdout",
     "output_type": "stream",
     "text": [
      "{'(NP (P in) (NP (Det his) (N home)))'}\n"
     ]
    }
   ],
   "source": [
    "print(set_3)"
   ]
  },
  {
   "cell_type": "code",
   "execution_count": 78,
   "metadata": {},
   "outputs": [
    {
     "name": "stdout",
     "output_type": "stream",
     "text": [
      "{'(NP (Det his) (N home))', '(NP (Det the) (AP (Adj red)) (N armchair))'}\n"
     ]
    }
   ],
   "source": [
    "print(set_chunk)"
   ]
  },
  {
   "cell_type": "code",
   "execution_count": 18,
   "metadata": {},
   "outputs": [
    {
     "name": "stdout",
     "output_type": "stream",
     "text": [
      "New NP: (NP (N i))\n",
      "(N i)\n",
      "New NP: (NP (Det a) (AP (Adj country)) (N walk))\n",
      "(Det a)\n",
      "(AP (Adj country))\n",
      "(N walk)\n",
      "New NP: (NP (N thursday))\n",
      "(N thursday)\n",
      "New NP: (NP (N home) (NP (P in) (NP (Det a) (AP (Adj dreadful)) (N mess))))\n",
      "(N home)\n",
      "New NP: (NP (P in) (NP (Det a) (AP (Adj dreadful)) (N mess)))\n",
      "(P in)\n",
      "New NP: (NP (Det a) (AP (Adj dreadful)) (N mess))\n",
      "(Det a)\n",
      "(AP (Adj dreadful))\n",
      "(N mess)\n"
     ]
    }
   ],
   "source": [
    "# Only remove non-chunks from list\n",
    "list_remove = []\n",
    "for i in list_subtrees:\n",
    "    print(\"New NP:\", i)\n",
    "    for j in i:\n",
    "        if j.label() == \"NP\":\n",
    "            list_remove.append(i)\n",
    "            continue\n",
    "        print(j)"
   ]
  },
  {
   "cell_type": "code",
   "execution_count": 20,
   "metadata": {},
   "outputs": [
    {
     "name": "stdout",
     "output_type": "stream",
     "text": [
      "(NP (N home) (NP (P in) (NP (Det a) (AP (Adj dreadful)) (N mess))))\n",
      "(NP (P in) (NP (Det a) (AP (Adj dreadful)) (N mess)))\n"
     ]
    }
   ],
   "source": [
    "for i in list_remove:\n",
    "    print(i)"
   ]
  },
  {
   "cell_type": "code",
   "execution_count": 23,
   "metadata": {},
   "outputs": [
    {
     "ename": "ValueError",
     "evalue": "list.remove(x): x not in list",
     "output_type": "error",
     "traceback": [
      "\u001b[0;31m---------------------------------------------------------------------------\u001b[0m",
      "\u001b[0;31mValueError\u001b[0m                                Traceback (most recent call last)",
      "Cell \u001b[0;32mIn [23], line 2\u001b[0m\n\u001b[1;32m      1\u001b[0m \u001b[39mfor\u001b[39;00m i \u001b[39min\u001b[39;00m list_remove:\n\u001b[0;32m----> 2\u001b[0m     list_subtrees\u001b[39m.\u001b[39;49mremove(i)\n\u001b[1;32m      4\u001b[0m list_subtrees\n",
      "\u001b[0;31mValueError\u001b[0m: list.remove(x): x not in list"
     ]
    }
   ],
   "source": [
    "for i in list_remove:\n",
    "    list_subtrees.remove(i)\n",
    "    "
   ]
  },
  {
   "cell_type": "code",
   "execution_count": 25,
   "metadata": {},
   "outputs": [
    {
     "name": "stdout",
     "output_type": "stream",
     "text": [
      "(NP (N i))\n",
      "(NP (Det a) (AP (Adj country)) (N walk))\n",
      "(NP (N thursday))\n",
      "(NP (Det a) (AP (Adj dreadful)) (N mess))\n"
     ]
    }
   ],
   "source": [
    "for i in list_subtrees:\n",
    "    print(i)"
   ]
  },
  {
   "cell_type": "code",
   "execution_count": 9,
   "metadata": {},
   "outputs": [
    {
     "name": "stdout",
     "output_type": "stream",
     "text": [
      "(NP (N i))\n",
      "(NP (Det a) (AP (Adj country)) (N walk))\n",
      "(NP (N thursday))\n",
      "(NP (P in) (NP (Det a) (AP (Adj dreadful)) (N mess)))\n",
      "(NP (Det a) (AP (Adj dreadful)) (N mess))\n"
     ]
    }
   ],
   "source": [
    "for i in list_subtrees:\n",
    "    print(i)"
   ]
  },
  {
   "cell_type": "code",
   "execution_count": null,
   "metadata": {},
   "outputs": [],
   "source": []
  }
 ],
 "metadata": {
  "kernelspec": {
   "display_name": "Python 3.10.6 ('base')",
   "language": "python",
   "name": "python3"
  },
  "language_info": {
   "codemirror_mode": {
    "name": "ipython",
    "version": 3
   },
   "file_extension": ".py",
   "mimetype": "text/x-python",
   "name": "python",
   "nbconvert_exporter": "python",
   "pygments_lexer": "ipython3",
   "version": "3.10.6"
  },
  "orig_nbformat": 4,
  "vscode": {
   "interpreter": {
    "hash": "51aac96a1ad50adc7d4a1a596256386b3ce94cd59070594d461c13d85ed1cee1"
   }
  }
 },
 "nbformat": 4,
 "nbformat_minor": 2
}
